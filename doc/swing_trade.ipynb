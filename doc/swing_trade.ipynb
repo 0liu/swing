{
 "cells": [
  {
   "cell_type": "markdown",
   "metadata": {},
   "source": [
    "# Swing Trade"
   ]
  },
  {
   "cell_type": "markdown",
   "metadata": {},
   "source": [
    "### An automatic swing trading strategy implementation."
   ]
  },
  {
   "cell_type": "markdown",
   "metadata": {},
   "source": [
    "## Price Zone Definition and Transition"
   ]
  },
  {
   "cell_type": "markdown",
   "metadata": {},
   "source": [
    "<img src=\"state_flowchart.png\" width=640>"
   ]
  },
  {
   "cell_type": "markdown",
   "metadata": {},
   "source": [
    "\n",
    "## Directional Reversal (Swing)"
   ]
  },
  {
   "cell_type": "markdown",
   "metadata": {},
   "source": [
    "\n",
    "<img src=\"state_reversal.png\" width=640>\n"
   ]
  },
  {
   "cell_type": "markdown",
   "metadata": {},
   "source": [
    "\n",
    "## Grid-Based Oscillatory Trading\n"
   ]
  },
  {
   "cell_type": "markdown",
   "metadata": {},
   "source": [
    "The oscillatory order price is based on the last successful order price as well as the trailing price from the last highest/lowest\n",
    "order price, i.e.,\n",
    "$$P_{last\\_order} - P_{last} \\geq P_h \\space\\space and \\space\\space P_{last}-P_{lowest} \\geq P_t \\space,\\space or$$\n",
    "$$P_{last} - P_{last\\_order} \\geq P_h \\space\\space and \\space\\space P_{highest}-P_{last} \\geq P_t \\ .$$\n",
    "The order quantity is determined by\n",
    "$$Q_{order} = m*Q_a + k*Q_{offset} $$\n",
    "where $m$ is the number of grids that the market traverses from $P_{last_order}$ to $P_{last}$, determined by\n",
    "$$m = \\lfloor \\lvert P_{last} - P_{last_order} \\rvert /P_h \\rfloor$$\n",
    "and $k$ is the oscillatory quantity offset coefficient, which increases by 1 when the accumulated profit in the current trading zone\n",
    "exceeds the pre-defined threshold $G_{k\\_th}$ determined by\n",
    "$$G_{k\\_th} = (P_H-P_L) * (N_{grids} * Q_a + k * Q_{offset}).$$"
   ]
  },
  {
   "cell_type": "markdown",
   "metadata": {},
   "source": [
    "<img src=\"grid_osc.png\" width=640>"
   ]
  },
  {
   "cell_type": "markdown",
   "metadata": {},
   "source": [
    "\n",
    "## Zone Switch\n"
   ]
  },
  {
   "cell_type": "markdown",
   "metadata": {},
   "source": [
    "Switching between the trading zones Net, Inc, Osc, Dec happens when market price crosses more than one grid of a neighbor zone,\n",
    "$$ p_{last} > P_{high\\_bound} + P_h \\space\\space or \\space\\space p_{last} < P_{low\\_bound} - P_h .$$"
   ]
  },
  {
   "cell_type": "markdown",
   "metadata": {},
   "source": [
    "<img src=\"zone_switch.png\" width=640>"
   ]
  },
  {
   "cell_type": "markdown",
   "metadata": {},
   "source": [
    "\n",
    "## State Transition Implementation\n",
    "\n"
   ]
  },
  {
   "cell_type": "markdown",
   "metadata": {},
   "source": [
    "<img src=\"state_transition.png\" width=640>"
   ]
  },
  {
   "cell_type": "markdown",
   "metadata": {},
   "source": [
    "\n",
    "## Adaptive Orders\n"
   ]
  },
  {
   "cell_type": "markdown",
   "metadata": {},
   "source": [
    "### Order Modes from More Passive to More Aggressive:\n",
    "* PATIENT: order price is the limit price specified by user.\n",
    "* ACCELERATED: order price is the more favor one between the last price with 1 payup tick and the midpoint of bid/ask.\n",
    "* URGENT: order price is the less favor one between the last price with 1 payup tick and the midpoint of bid/ask.\n",
    "* PANIC: order price is the market price."
   ]
  }
 ],
 "metadata": {
  "kernelspec": {
   "display_name": "Python 3",
   "language": "python",
   "name": "python3"
  },
  "language_info": {
   "codemirror_mode": {
    "name": "ipython",
    "version": 3
   },
   "file_extension": ".py",
   "mimetype": "text/x-python",
   "name": "python",
   "nbconvert_exporter": "python",
   "pygments_lexer": "ipython3",
   "version": "3.8.1"
  }
 },
 "nbformat": 4,
 "nbformat_minor": 4
}
